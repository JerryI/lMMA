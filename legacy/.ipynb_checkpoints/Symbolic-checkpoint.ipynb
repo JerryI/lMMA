{
 "cells": [
  {
   "cell_type": "markdown",
   "id": "valuable-apollo",
   "metadata": {},
   "source": [
    "## Готовим заголовки"
   ]
  },
  {
   "cell_type": "markdown",
   "id": "behind-amsterdam",
   "metadata": {},
   "source": [
    "Подключаем необходимые тензорные бибилиотеки"
   ]
  },
  {
   "cell_type": "code",
   "execution_count": 1,
   "id": "eleven-flooring",
   "metadata": {},
   "outputs": [],
   "source": [
    "#include <iostream>\n",
    "// Base Arrays:\n",
    "#include \"xtensor/xarray.hpp\"\n",
    "#include \"xtensor-blas/xlinalg.hpp\"\n",
    "// XTensor IO:\n",
    "#include \"xtensor/xio.hpp\"\n",
    "// XTensor View:\n",
    "#include \"xtensor/xview.hpp\""
   ]
  },
  {
   "cell_type": "markdown",
   "id": "emerging-rebound",
   "metadata": {},
   "source": [
    "Нужно придумать такой объект, который мог бы хранить символы"
   ]
  },
  {
   "cell_type": "code",
   "execution_count": null,
   "id": "earlier-qatar",
   "metadata": {},
   "outputs": [],
   "source": []
  }
 ],
 "metadata": {
  "kernelspec": {
   "display_name": "C++17",
   "language": "C++17",
   "name": "xcpp17"
  },
  "language_info": {
   "codemirror_mode": "text/x-c++src",
   "file_extension": ".cpp",
   "mimetype": "text/x-c++src",
   "name": "c++",
   "version": "17"
  }
 },
 "nbformat": 4,
 "nbformat_minor": 5
}
