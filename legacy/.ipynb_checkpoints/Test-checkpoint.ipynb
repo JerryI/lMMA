{
 "cells": [
  {
   "cell_type": "code",
   "execution_count": 1,
   "id": "offshore-structure",
   "metadata": {},
   "outputs": [],
   "source": [
    "#include <iostream>\n",
    "// Base Arrays:\n",
    "#include \"xtensor/xarray.hpp\"\n",
    "#include \"xtensor-blas/xlinalg.hpp\"\n",
    "// XTensor IO:\n",
    "#include \"xtensor/xio.hpp\"\n",
    "// XTensor View:\n",
    "#include \"xtensor/xview.hpp\"\n",
    "\n",
    "#pragma cling load(\"libomp.so\")\n",
    "#include <omp.h>\n",
    "\n",
    "\n",
    "using namespace xt; "
   ]
  },
  {
   "cell_type": "code",
   "execution_count": 4,
   "id": "given-blank",
   "metadata": {},
   "outputs": [],
   "source": [
    "xarray<int>array\n",
    "({{500, 500, 300}, {500, 600, 800}})"
   ]
  },
  {
   "cell_type": "code",
   "execution_count": 5,
   "id": "prompt-shower",
   "metadata": {},
   "outputs": [
    {
     "data": {
      "text/html": [
       "<table style='border-style:solid;border-width:1px;'><tbody><tr><td style='font-family:monospace;' title='(0, 0)'><pre>500</pre></td><td style='font-family:monospace;' title='(0, 1)'><pre>500</pre></td><td style='font-family:monospace;' title='(0, 2)'><pre>300</pre></td></tr><tr><td style='font-family:monospace;' title='(1, 0)'><pre>500</pre></td><td style='font-family:monospace;' title='(1, 1)'><pre>600</pre></td><td style='font-family:monospace;' title='(1, 2)'><pre>800</pre></td></tr></tbody></table>"
      ]
     },
     "execution_count": 5,
     "metadata": {},
     "output_type": "execute_result"
    }
   ],
   "source": [
    "array"
   ]
  },
  {
   "cell_type": "code",
   "execution_count": 3,
   "id": "pediatric-ladder",
   "metadata": {},
   "outputs": [],
   "source": [
    "xarray<double> matrix({{1,0},{0,1}});\n",
    "xarray<double> vector({{1,0}});"
   ]
  },
  {
   "cell_type": "raw",
   "id": "fluid-invasion",
   "metadata": {},
   "source": [
    "vector"
   ]
  },
  {
   "cell_type": "code",
   "execution_count": 19,
   "id": "other-hybrid",
   "metadata": {},
   "outputs": [
    {
     "data": {
      "text/html": [
       "<table style='border-style:solid;border-width:1px;'><tbody><tr><td style='font-family:monospace;' title='(0, 0)'><pre> 0.1</pre></td><td style='font-family:monospace;' title='(0, 1)'><pre> 0.3</pre></td></tr></tbody></table>"
      ]
     },
     "execution_count": 19,
     "metadata": {},
     "output_type": "execute_result"
    }
   ],
   "source": [
    "vector"
   ]
  },
  {
   "cell_type": "code",
   "execution_count": 10,
   "id": "parental-replication",
   "metadata": {},
   "outputs": [
    {
     "data": {
      "text/html": [
       "<table style='border-style:solid;border-width:1px;'><tbody><tr><td style='font-family:monospace;' title='(0, 0)'><pre> 1.</pre></td></tr></tbody></table>"
      ]
     },
     "execution_count": 10,
     "metadata": {},
     "output_type": "execute_result"
    }
   ],
   "source": [
    "For\n",
    "xt::linalg::dot(xt::linalg::dot(vector,matrix),xt::transpose(vector))"
   ]
  },
  {
   "cell_type": "code",
   "execution_count": 3,
   "id": "common-necessity",
   "metadata": {},
   "outputs": [
    {
     "name": "stdout",
     "output_type": "stream",
     "text": [
      "30.000000\n"
     ]
    }
   ],
   "source": [
    "#define Nt 100\n",
    "\n",
    "double a[Nt], b[Nt], c[Nt];\n",
    "  int i;\n",
    "  omp_set_dynamic(0);      // запретить библиотеке openmp менять число потоков во время исполнения\n",
    "  omp_set_num_threads(10); // установить число потоков в 10\n",
    "\n",
    "  // инициализируем массивы\n",
    "  for (i = 0; i < Nt; i++)\n",
    "  {\n",
    "      a[i] = i * 1.0;\n",
    "      b[i] = i * 2.0;\n",
    "  }\n",
    "\n",
    "  // вычисляем сумму массивов\n",
    "#pragma omp parallel for shared(a, b, c) private(i)\n",
    "   for (i = 0; i < Nt; i++)\n",
    "     c[i] = a[i] + b[i];\n",
    "\n",
    "  printf (\"%f\\n\", c[10]);"
   ]
  },
  {
   "cell_type": "code",
   "execution_count": 2,
   "id": "referenced-smoke",
   "metadata": {},
   "outputs": [
    {
     "data": {
      "text/plain": [
       "4"
      ]
     },
     "execution_count": 2,
     "metadata": {},
     "output_type": "execute_result"
    }
   ],
   "source": [
    "omp_get_max_threads()"
   ]
  },
  {
   "cell_type": "code",
   "execution_count": 10,
   "id": "color-reminder",
   "metadata": {},
   "outputs": [
    {
     "name": "stdout",
     "output_type": "stream",
     "text": [
      "10\n",
      "0\n",
      "0\n",
      "0\n",
      "0\n",
      "0\n",
      "0\n",
      "0\n",
      "0\n",
      "0\n",
      "0\n"
     ]
    }
   ],
   "source": [
    "const int threads = omp_get_max_threads(); \n",
    " printf (\"%i\\n\", threads);  \n",
    "#pragma omp parallel private()  \n",
    "{\n",
    "     #pragma omp for  \n",
    "      for(int i = 0; i<threads; ++i) { \n",
    "           printf (\"%i\\n\", omp_get_thread_num()); \n",
    "      }\n",
    "}"
   ]
  },
  {
   "cell_type": "code",
   "execution_count": null,
   "id": "polish-freeze",
   "metadata": {},
   "outputs": [],
   "source": []
  }
 ],
 "metadata": {
  "kernelspec": {
   "display_name": "C++17",
   "language": "C++17",
   "name": "xcpp17"
  },
  "language_info": {
   "codemirror_mode": "text/x-c++src",
   "file_extension": ".cpp",
   "mimetype": "text/x-c++src",
   "name": "c++",
   "version": "17"
  }
 },
 "nbformat": 4,
 "nbformat_minor": 5
}
