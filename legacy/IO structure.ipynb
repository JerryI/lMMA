{
 "cells": [
  {
   "cell_type": "code",
   "execution_count": 1,
   "id": "bored-kennedy",
   "metadata": {},
   "outputs": [],
   "source": [
    "#include <iostream>\n",
    "#include <unistd.h>\n",
    "#include <stdio.h>\n",
    "#include <sys/socket.h>\n",
    "#include <stdlib.h>\n",
    "#include <netinet/in.h>\n",
    "#include <string.h>\n",
    "\n",
    "#define PORT 2020\n",
    "\n",
    "using namespace std;\n",
    "\n",
    "#include <nlohmann/json.hpp>\n",
    "\n",
    "// for convenience\n",
    "using json = nlohmann::json;"
   ]
  },
  {
   "cell_type": "markdown",
   "id": "creative-desert",
   "metadata": {},
   "source": [
    "## Импорт и экспорт структуры"
   ]
  },
  {
   "cell_type": "markdown",
   "id": "altered-representative",
   "metadata": {},
   "source": [
    "Для начала необходимо придумать структуру для хранения. А будет это двусвязный список."
   ]
  },
  {
   "cell_type": "code",
   "execution_count": 2,
   "id": "distant-focus",
   "metadata": {},
   "outputs": [],
   "source": [
    "enum TYPE {INTEGER, FLOAT, STRING, BOOL, HOLD, LIST, DOT, TIMES, PLUS};"
   ]
  },
  {
   "cell_type": "code",
   "execution_count": 3,
   "id": "willing-architect",
   "metadata": {},
   "outputs": [],
   "source": [
    "typedef struct node{\n",
    "    TYPE type;\n",
    "    struct {\n",
    "        int i;\n",
    "        double f;\n",
    "        string s;\n",
    "        vector<node*> args;\n",
    "    } data;  \n",
    "    \n",
    "    node() {\n",
    "        \n",
    "    }\n",
    "} node;"
   ]
  },
  {
   "cell_type": "code",
   "execution_count": 4,
   "id": "rubber-genre",
   "metadata": {},
   "outputs": [],
   "source": [
    "string EnumTypes[] =\n",
    "{\n",
    "   \"INTEGER\", \"FLOAT\", \"STRING\",\"BOOL\", \"Hold\", \"List\", \"Dot\", \"Times\", \"Plus\" \n",
    "};"
   ]
  },
  {
   "cell_type": "code",
   "execution_count": 5,
   "id": "living-slovenia",
   "metadata": {},
   "outputs": [],
   "source": [
    "void show(node &data, int level = 0);"
   ]
  },
  {
   "cell_type": "code",
   "execution_count": 6,
   "id": "corrected-irish",
   "metadata": {},
   "outputs": [],
   "source": [
    "void show(node &data, int level = 0) {\n",
    "    \n",
    "    string offset = \"\";\n",
    "    for (int i=0; i<level; ++i) offset = offset + \"  \";\n",
    "    \n",
    "    if (data.type == INTEGER) {\n",
    "        cout << offset << data.data.i << '\\n';\n",
    "        return;\n",
    "    }\n",
    "    \n",
    "    if (data.type == FLOAT) {\n",
    "        cout << offset << data.data.f << '\\n';\n",
    "        return;\n",
    "    }\n",
    "    \n",
    "    if (data.type == STRING) {\n",
    "        cout << offset << data.data.s << '\\n';\n",
    "        return;\n",
    "    }     \n",
    "    \n",
    "    cout << offset << \"Type: \" << EnumTypes[data.type] << '\\n';\n",
    "    \n",
    "    level = level + 1;\n",
    "    for (int i=0; i<data.data.args.size(); ++i) {\n",
    "        show(*data.data.args[i], level);\n",
    "    }\n",
    "    \n",
    "    return;\n",
    "}"
   ]
  },
  {
   "cell_type": "markdown",
   "id": "ready-dependence",
   "metadata": {},
   "source": [
    "Теперь надо научить записывать туда дерево и считывать"
   ]
  },
  {
   "cell_type": "code",
   "execution_count": 7,
   "id": "foreign-luxury",
   "metadata": {},
   "outputs": [],
   "source": [
    "unsigned constexpr const_hash(char const *input) {\n",
    "    return *input ?\n",
    "        static_cast<unsigned int>(*input) + 33 * const_hash(input + 1) :\n",
    "        5381;\n",
    "}"
   ]
  },
  {
   "cell_type": "code",
   "execution_count": 8,
   "id": "ahead-sport",
   "metadata": {},
   "outputs": [],
   "source": [
    "unsigned const_hash(string c) {\n",
    "    return const_hash(c.c_str());\n",
    "}"
   ]
  },
  {
   "cell_type": "code",
   "execution_count": 9,
   "id": "usual-canal",
   "metadata": {},
   "outputs": [],
   "source": [
    "node* (*btree)(json &data) = nullptr;\n",
    "json* (*ftree)(node &data) = nullptr;"
   ]
  },
  {
   "cell_type": "code",
   "execution_count": 10,
   "id": "integral-heavy",
   "metadata": {},
   "outputs": [],
   "source": [
    "btree = [](json &data) {\n",
    "    node* ptr = new node;\n",
    "    \n",
    "    if (data.is_number_integer()) {\n",
    "        ptr->type = INTEGER;\n",
    "        ptr->data.i = data.get<int>();\n",
    "        return ptr;\n",
    "    }\n",
    "    \n",
    "    if (data.is_number_float()) {\n",
    "        ptr->type = FLOAT;\n",
    "        ptr->data.f = data.get<double>();\n",
    "        return ptr;\n",
    "    }   \n",
    "    \n",
    "    if (data.is_string()) {\n",
    "        ptr->type = STRING;\n",
    "        ptr->data.s = data.get<string>();\n",
    "        return ptr;\n",
    "    }    \n",
    "    \n",
    "    string name = data[0].get<string>();\n",
    "    \n",
    "    switch(const_hash(name)) {\n",
    "        case const_hash(\"Hold\"):\n",
    "            ptr->type = HOLD;\n",
    "            break;\n",
    "        case const_hash(\"Dot\"):\n",
    "            ptr->type = DOT;\n",
    "            break;\n",
    "        case const_hash(\"List\"):\n",
    "            ptr->type = LIST;\n",
    "            break;\n",
    "        case const_hash(\"Plus\"):\n",
    "            ptr->type = PLUS;\n",
    "            break;\n",
    "        case const_hash(\"Times\"):\n",
    "            ptr->type = TIMES;\n",
    "            break;\n",
    "    }\n",
    "    \n",
    "    if (data.size() < 2) return ptr;\n",
    "    \n",
    "    for (int i = 1; i<data.size(); ++i) {\n",
    "        json obj = data[i];\n",
    "        \n",
    "        ptr->data.args.push_back(btree(obj));\n",
    "        \n",
    "    }\n",
    "    \n",
    "    return ptr;\n",
    "};"
   ]
  },
  {
   "cell_type": "code",
   "execution_count": 18,
   "id": "cubic-basics",
   "metadata": {},
   "outputs": [],
   "source": [
    "ftree = [](node &data) {\n",
    "    json* ptr = new json;\n",
    "    \n",
    "    if (data.type == INTEGER) {\n",
    "        *ptr = data.data.i;\n",
    "        return ptr;\n",
    "    }\n",
    "    \n",
    "    if (data.type == FLOAT) {\n",
    "        *ptr = data.data.f;\n",
    "        return ptr;\n",
    "    }   \n",
    "    \n",
    "    if (data.type == STRING) {\n",
    "        *ptr = data.data.s;\n",
    "        return ptr;\n",
    "    }    \n",
    "    \n",
    "    ptr->push_back(EnumTypes[data.type]);\n",
    "    \n",
    "    for (int i = 0; i<data.data.args.size(); ++i) {\n",
    "        \n",
    "       ptr->push_back(*ftree(*data.data.args[i]));\n",
    "        \n",
    "    }\n",
    "    \n",
    "    return ptr;\n",
    "};"
   ]
  },
  {
   "cell_type": "code",
   "execution_count": 19,
   "id": "finite-cemetery",
   "metadata": {},
   "outputs": [
    {
     "name": "stdout",
     "output_type": "stream",
     "text": [
      "Type: Dot\n",
      "  Type: Times\n",
      "    2\n",
      "    Type: List\n",
      "      Type: List\n",
      "        1\n",
      "        0\n",
      "      Type: List\n",
      "        0\n",
      "        1\n",
      "  Type: List\n",
      "    Type: List\n",
      "      0\n",
      "      1\n",
      "    Type: List\n",
      "      1\n",
      "      u\n",
      "[\"Dot\",[\"Times\",2,[\"List\",[\"List\",1,0],[\"List\",0,1]]],[\"List\",[\"List\",0,1],[\"List\",1,\"u\"]]]\n",
      "[\"Dot\",[\"Times\",2,[\"List\",[\"List\",1,0],[\"List\",0,1]]],[\"List\",[\"List\",0,1],[\"List\",1,\"u\"]]]"
     ]
    }
   ],
   "source": [
    "char text[] = R\"(\n",
    "[\n",
    "\t\t\"Dot\",\n",
    "\t\t[\n",
    "\t\t\t\"Times\",\n",
    "\t\t\t2,\n",
    "\t\t\t[\n",
    "\t\t\t\t\"List\",\n",
    "\t\t\t\t[\n",
    "\t\t\t\t\t\"List\",\n",
    "\t\t\t\t\t1,\n",
    "\t\t\t\t\t0\n",
    "\t\t\t\t],\n",
    "\t\t\t\t[\n",
    "\t\t\t\t\t\"List\",\n",
    "\t\t\t\t\t0,\n",
    "\t\t\t\t\t1\n",
    "\t\t\t\t]\n",
    "\t\t\t]\n",
    "\t\t],\n",
    "\t\t[\n",
    "\t\t\t\"List\",\n",
    "\t\t\t[\n",
    "\t\t\t\t\"List\",\n",
    "\t\t\t\t0,\n",
    "\t\t\t\t1\n",
    "\t\t\t],\n",
    "\t\t\t[\n",
    "\t\t\t\t\"List\",\n",
    "\t\t\t\t1,\n",
    "\t\t\t\t\"u\"\n",
    "\t\t\t]\n",
    "\t\t]\n",
    "]\n",
    ")\";\n",
    "// Let's parse and serialize JSON\n",
    "json buffer = json::parse(text);\n",
    "node* ptr = btree(buffer);\n",
    "show(*ptr);\n",
    "json* second = ftree(*ptr);\n",
    "\n",
    "cout << buffer << '\\n';\n",
    "cout << *second;"
   ]
  },
  {
   "cell_type": "code",
   "execution_count": null,
   "id": "documentary-bowling",
   "metadata": {},
   "outputs": [],
   "source": []
  }
 ],
 "metadata": {
  "kernelspec": {
   "display_name": "C++17",
   "language": "C++17",
   "name": "xcpp17"
  },
  "language_info": {
   "codemirror_mode": "text/x-c++src",
   "file_extension": ".cpp",
   "mimetype": "text/x-c++src",
   "name": "c++",
   "version": "17"
  }
 },
 "nbformat": 4,
 "nbformat_minor": 5
}
