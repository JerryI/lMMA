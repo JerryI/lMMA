{
 "cells": [
  {
   "cell_type": "markdown",
   "id": "tamil-backup",
   "metadata": {},
   "source": [
    "## Готовим заголовки"
   ]
  },
  {
   "cell_type": "markdown",
   "id": "tough-juvenile",
   "metadata": {},
   "source": [
    "Подключаем необходимые тензорные бибилиотеки"
   ]
  },
  {
   "cell_type": "code",
   "execution_count": 1,
   "id": "august-green",
   "metadata": {},
   "outputs": [],
   "source": [
    "#include <iostream>\n",
    "// Base Arrays:\n",
    "#include \"xtensor/xarray.hpp\"\n",
    "#include \"xtensor-blas/xlinalg.hpp\"\n",
    "// XTensor IO:\n",
    "#include \"xtensor/xio.hpp\"\n",
    "// XTensor View:\n",
    "#include \"xtensor/xview.hpp\"\n",
    "\n",
    "using namespace xt;\n"
   ]
  },
  {
   "cell_type": "markdown",
   "id": "faced-disability",
   "metadata": {},
   "source": [
    "Нужно придумать такой объект, который мог бы хранить символы"
   ]
  },
  {
   "cell_type": "code",
   "execution_count": null,
   "id": "covered-tractor",
   "metadata": {},
   "outputs": [],
   "source": [
    "xarray<double> numVector({{1,0}});\n",
    "numVector"
   ]
  },
  {
   "cell_type": "code",
   "execution_count": null,
   "id": "asian-binding",
   "metadata": {},
   "outputs": [],
   "source": [
    "sizeof(numVector)/sizeof(double)"
   ]
  },
  {
   "cell_type": "markdown",
   "id": "conscious-minute",
   "metadata": {},
   "source": [
    "Надо вектор какого-то типа данных общего"
   ]
  },
  {
   "cell_type": "code",
   "execution_count": 2,
   "id": "muslim-continent",
   "metadata": {},
   "outputs": [],
   "source": [
    "\n",
    "\n",
    "struct PT \n",
    "{   \n",
    "  double x, y;  \n",
    "  PT() {}  \n",
    "  PT(double x, double y) : x(x), y(y) {}  \n",
    "  PT(const PT &p) : x(p.x), y(p.y)    {}  \n",
    "  PT operator + (const PT &p)  const { return PT(x+p.x, y+p.y); }  \n",
    "  PT operator - (const PT &p)  const { return PT(x-p.x, y-p.y); }  \n",
    "  PT operator * (const PT &p)     const { return PT(x*p.x,   y*p.y  ); } \n",
    "  PT operator * (double c)     const { return PT(x*c,   y*c  ); }\n",
    "  PT operator / (double c)     const { return PT(x/c,   y/c  ); }  \n",
    "};\n"
   ]
  },
  {
   "cell_type": "code",
   "execution_count": 3,
   "id": "metric-mystery",
   "metadata": {},
   "outputs": [],
   "source": [
    "PT obj(3.5,4.8);\n",
    "PT obj2(-10,0);"
   ]
  },
  {
   "cell_type": "code",
   "execution_count": 4,
   "id": "alike-saver",
   "metadata": {},
   "outputs": [],
   "source": [
    "PT obj7 = obj - obj2;"
   ]
  },
  {
   "cell_type": "code",
   "execution_count": 5,
   "id": "split-chair",
   "metadata": {},
   "outputs": [],
   "source": [
    "xarray<PT>::shape_type shape = {2, 2};\n",
    "xarray<PT> a0(shape);\n",
    "xarray<PT> a1(shape);\n",
    "\n",
    "a0(0,0) = obj;\n",
    "a0(0,1) = obj;\n",
    "a0(1,0) = obj;\n",
    "a0(1,1) = obj;\n",
    "\n",
    "a1(0,0) = obj2;\n",
    "a1(0,1) = obj2;\n",
    "a1(1,0) = obj2;\n",
    "a1(1,1) = obj2;"
   ]
  },
  {
   "cell_type": "code",
   "execution_count": 7,
   "id": "broadband-spyware",
   "metadata": {},
   "outputs": [
    {
     "data": {
      "text/plain": [
       "-35.000000"
      ]
     },
     "execution_count": 7,
     "metadata": {},
     "output_type": "execute_result"
    }
   ],
   "source": [
    "PT obj8 = obj * obj2;\n",
    "obj8.x"
   ]
  },
  {
   "cell_type": "code",
   "execution_count": null,
   "id": "homeless-charles",
   "metadata": {},
   "outputs": [
    {
     "name": "stderr",
     "output_type": "stream",
     "text": [
      "In file included from input_line_9:2:\n",
      "\u001b[1m/home/kirill/miniconda3/envs/cling/include/xtensor-blas/xlinalg.hpp:741:21: \u001b[0m\u001b[0;1;31merror: \u001b[0m\u001b[1mno matching conversion for functional-style cast from 'double' to 'value_type' (aka '__cling_N52::PT')\u001b[0m\n",
      "                    value_type(1.0),\n",
      "\u001b[0;1;32m                    ^~~~~~~~~~~~~~\n",
      "\u001b[0m\u001b[1minput_line_24:2:21: \u001b[0m\u001b[0;1;30mnote: \u001b[0min instantiation of function template specialization 'xt::linalg::dot<xt::xarray_container<xt::uvector<__cling_N52::PT,\n",
      "      std::allocator<__cling_N52::PT> >, xt::layout_type::row_major, xt::svector<unsigned long, 4,\n",
      "      std::allocator<unsigned long>, true>, xt::xtensor_expression_tag>,\n",
      "      xt::xarray_container<xt::uvector<__cling_N52::PT, std::allocator<__cling_N52::PT> >, xt::layout_type::row_major,\n",
      "      xt::svector<unsigned long, 4, std::allocator<unsigned long>, true>, xt::xtensor_expression_tag> >' requested here\u001b[0m\n",
      " auto res = linalg::dot(a0,a1);\n",
      "\u001b[0;1;32m                    ^\n",
      "\u001b[0m\u001b[1minput_line_15:6:3: \u001b[0m\u001b[0;1;30mnote: \u001b[0mcandidate constructor not viable: no known conversion from 'double' to 'const __cling_N52::PT' for 1st argument\u001b[0m\n",
      "  PT(const PT &p) : x(p.x), y(p.y)    {}  \n",
      "\u001b[0;1;32m  ^\n",
      "\u001b[0m\u001b[1minput_line_15:4:3: \u001b[0m\u001b[0;1;30mnote: \u001b[0mcandidate constructor not viable: requires 0 arguments, but 1 was provided\u001b[0m\n",
      "  PT() {}  \n",
      "\u001b[0;1;32m  ^\n",
      "\u001b[0m\u001b[1minput_line_15:5:3: \u001b[0m\u001b[0;1;30mnote: \u001b[0mcandidate constructor not viable: requires 2 arguments, but 1 was provided\u001b[0m\n",
      "  PT(double x, double y) : x(x), y(y) {}  \n",
      "\u001b[0;1;32m  ^\n",
      "\u001b[0mIn file included from input_line_9:2:\n",
      "In file included from /home/kirill/miniconda3/envs/cling/include/xtensor-blas/xlinalg.hpp:30:\n",
      "In file included from /home/kirill/miniconda3/envs/cling/include/xtensor-blas/xblas.hpp:24:\n",
      "In file included from /home/kirill/miniconda3/envs/cling/include/xflens/cxxblas/cxxblas.cxx:37:\n",
      "In file included from /home/kirill/miniconda3/envs/cling/include/xflens/cxxblas/cxxblas.tcc:39:\n",
      "In file included from /home/kirill/miniconda3/envs/cling/include/xflens/cxxblas/level1/level1.tcc:39:\n",
      "\u001b[1m/home/kirill/miniconda3/envs/cling/include/xflens/cxxblas/level1/dot.tcc:48:14: \u001b[0m\u001b[0;1;31merror: \u001b[0m\u001b[1mno matching conversion for functional-style cast from 'int' to '__cling_N52::PT'\u001b[0m\n",
      "    result = Result(0);\n",
      "\u001b[0;1;32m             ^~~~~~~~\n",
      "\u001b[0m\u001b[1m/home/kirill/miniconda3/envs/cling/include/xflens/cxxblas/level1/dot.tcc:83:5: \u001b[0m\u001b[0;1;30mnote: \u001b[0min instantiation of function template specialization 'cxxblas::dotu_generic<int, __cling_N52::PT, __cling_N52::PT,\n",
      "      __cling_N52::PT>' requested here\u001b[0m\n",
      "    dotu_generic(n, x, incX, y, incY, result);\n",
      "\u001b[0;1;32m    ^\n",
      "\u001b[0m\u001b[1m/home/kirill/miniconda3/envs/cling/include/xtensor-blas/xblas.hpp:142:18: \u001b[0m\u001b[0;1;30mnote: \u001b[0min instantiation of function template specialization 'cxxblas::dotu<int, __cling_N52::PT, __cling_N52::PT,\n",
      "      __cling_N52::PT>' requested here\u001b[0m\n",
      "        cxxblas::dotu<blas_index_t>(\n",
      "\u001b[0;1;32m                 ^\n",
      "\u001b[0m\u001b[1m/home/kirill/miniconda3/envs/cling/include/xtensor-blas/xlinalg.hpp:699:23: \u001b[0m\u001b[0;1;30mnote: \u001b[0min instantiation of function template specialization 'xt::blas::dotu<xt::xarray_container<xt::uvector<__cling_N52::PT,\n",
      "      std::allocator<__cling_N52::PT> >, xt::layout_type::row_major, xt::svector<unsigned long, 4,\n",
      "      std::allocator<unsigned long>, true>, xt::xtensor_expression_tag>,\n",
      "      xt::xarray_container<xt::uvector<__cling_N52::PT, std::allocator<__cling_N52::PT> >, xt::layout_type::row_major,\n",
      "      xt::svector<unsigned long, 4, std::allocator<unsigned long>, true>, xt::xtensor_expression_tag>, __cling_N52::PT>'\n",
      "      requested here\u001b[0m\n",
      "                blas::dotu(t, o, result(0));\n",
      "\u001b[0;1;32m                      ^\n",
      "\u001b[0m\u001b[1minput_line_15:6:3: \u001b[0m\u001b[0;1;30mnote: \u001b[0mcandidate constructor not viable: no known conversion from 'int' to 'const __cling_N52::PT' for 1st argument\u001b[0m\n",
      "  PT(const PT &p) : x(p.x), y(p.y)    {}  \n",
      "\u001b[0;1;32m  ^\n",
      "\u001b[0m\u001b[1minput_line_15:4:3: \u001b[0m\u001b[0;1;30mnote: \u001b[0mcandidate constructor not viable: requires 0 arguments, but 1 was provided\u001b[0m\n",
      "  PT() {}  \n",
      "\u001b[0;1;32m  ^\n",
      "\u001b[0m\u001b[1minput_line_15:5:3: \u001b[0m\u001b[0;1;30mnote: \u001b[0mcandidate constructor not viable: requires 2 arguments, but 1 was provided\u001b[0m\n",
      "  PT(double x, double y) : x(x), y(y) {}  \n",
      "\u001b[0;1;32m  ^\n",
      "\u001b[0mIn file included from input_line_9:2:\n",
      "In file included from /home/kirill/miniconda3/envs/cling/include/xtensor-blas/xlinalg.hpp:30:\n",
      "In file included from /home/kirill/miniconda3/envs/cling/include/xtensor-blas/xblas.hpp:24:\n",
      "In file included from /home/kirill/miniconda3/envs/cling/include/xflens/cxxblas/cxxblas.cxx:37:\n",
      "In file included from /home/kirill/miniconda3/envs/cling/include/xflens/cxxblas/cxxblas.tcc:39:\n",
      "In file included from /home/kirill/miniconda3/envs/cling/include/xflens/cxxblas/level1/level1.tcc:39:\n",
      "\u001b[1m/home/kirill/miniconda3/envs/cling/include/xflens/cxxblas/level1/dot.tcc:50:16: \u001b[0m\u001b[0;1;31merror: \u001b[0m\u001b[1mno viable overloaded '+='\u001b[0m\n",
      "        result += Result(x[iX])*Result(y[iY]);\n",
      "\u001b[0;1;32m        ~~~~~~ ^  ~~~~~~~~~~~~~~~~~~~~~~~~~~~\n",
      "\u001b[0m\u001b[1m/home/kirill/miniconda3/envs/cling/include/xflens/cxxblas/level1/dot.tcc:63:14: \u001b[0m\u001b[0;1;31merror: \u001b[0m\u001b[1mno matching conversion for functional-style cast from 'int' to '__cling_N52::PT'\u001b[0m\n",
      "    result = Result(0);\n",
      "\u001b[0;1;32m             ^~~~~~~~\n",
      "\u001b[0m\u001b[1m/home/kirill/miniconda3/envs/cling/include/xflens/cxxblas/level1/dot.tcc:98:5: \u001b[0m\u001b[0;1;30mnote: \u001b[0min instantiation of function template specialization 'cxxblas::dot_generic<int, __cling_N52::PT, __cling_N52::PT,\n",
      "      __cling_N52::PT>' requested here\u001b[0m\n",
      "    dot_generic(n, x, incX, y, incY, result);\n",
      "\u001b[0;1;32m    ^\n",
      "\u001b[0m\u001b[1m/home/kirill/miniconda3/envs/cling/include/xtensor-blas/xblas.hpp:102:18: \u001b[0m\u001b[0;1;30mnote: \u001b[0min instantiation of function template specialization 'cxxblas::dot<int, __cling_N52::PT, __cling_N52::PT,\n",
      "      __cling_N52::PT>' requested here\u001b[0m\n",
      "        cxxblas::dot<blas_index_t>(\n",
      "\u001b[0;1;32m                 ^\n",
      "\u001b[0m\u001b[1m/home/kirill/miniconda3/envs/cling/include/xtensor-blas/xlinalg.hpp:703:23: \u001b[0m\u001b[0;1;30mnote: \u001b[0min instantiation of function template specialization 'xt::blas::dot<xt::xarray_container<xt::uvector<__cling_N52::PT,\n",
      "      std::allocator<__cling_N52::PT> >, xt::layout_type::row_major, xt::svector<unsigned long, 4,\n",
      "      std::allocator<unsigned long>, true>, xt::xtensor_expression_tag>,\n",
      "      xt::xarray_container<xt::uvector<__cling_N52::PT, std::allocator<__cling_N52::PT> >, xt::layout_type::row_major,\n",
      "      xt::svector<unsigned long, 4, std::allocator<unsigned long>, true>, xt::xtensor_expression_tag>, __cling_N52::PT>'\n",
      "      requested here\u001b[0m\n",
      "                blas::dot(t, o, result(0));\n",
      "\u001b[0;1;32m                      ^\n",
      "\u001b[0m\u001b[1minput_line_15:6:3: \u001b[0m\u001b[0;1;30mnote: \u001b[0mcandidate constructor not viable: no known conversion from 'int' to 'const __cling_N52::PT' for 1st argument\u001b[0m\n",
      "  PT(const PT &p) : x(p.x), y(p.y)    {}  \n",
      "\u001b[0;1;32m  ^\n",
      "\u001b[0m\u001b[1minput_line_15:4:3: \u001b[0m\u001b[0;1;30mnote: \u001b[0mcandidate constructor not viable: requires 0 arguments, but 1 was provided\u001b[0m\n",
      "  PT() {}  \n",
      "\u001b[0;1;32m  ^\n",
      "\u001b[0m\u001b[1minput_line_15:5:3: \u001b[0m\u001b[0;1;30mnote: \u001b[0mcandidate constructor not viable: requires 2 arguments, but 1 was provided\u001b[0m\n",
      "  PT(double x, double y) : x(x), y(y) {}  \n",
      "\u001b[0;1;32m  ^\n",
      "\u001b[0mIn file included from input_line_9:2:\n",
      "In file included from /home/kirill/miniconda3/envs/cling/include/xtensor-blas/xlinalg.hpp:30:\n",
      "In file included from /home/kirill/miniconda3/envs/cling/include/xtensor-blas/xblas.hpp:24:\n",
      "In file included from /home/kirill/miniconda3/envs/cling/include/xflens/cxxblas/cxxblas.cxx:37:\n",
      "In file included from /home/kirill/miniconda3/envs/cling/include/xflens/cxxblas/cxxblas.tcc:39:\n",
      "In file included from /home/kirill/miniconda3/envs/cling/include/xflens/cxxblas/level1/level1.tcc:39:\n",
      "\u001b[1m/home/kirill/miniconda3/envs/cling/include/xflens/cxxblas/level1/dot.tcc:65:26: \u001b[0m\u001b[0;1;31merror: \u001b[0m\u001b[1mno matching function for call to 'conjugate'\u001b[0m\n",
      "        result += Result(conjugate(x[iX]))*Result(y[iY]);\n",
      "\u001b[0;1;32m                         ^~~~~~~~~\n"
     ]
    },
    {
     "name": "stderr",
     "output_type": "stream",
     "text": [
      "\u001b[0m\u001b[1m/home/kirill/miniconda3/envs/cling/include/xflens/cxxblas/auxiliary/complex.tcc:45:1: \u001b[0m\u001b[0;1;30mnote: \u001b[0mcandidate template ignored: substitution failure [with T = __cling_N52::PT]: no type named 'Type' in\n",
      "      'cxxblas::RestrictTo<false, const __cling_N52::PT &>'\u001b[0m\n",
      "conjugate(const T &x)\n",
      "\u001b[0;1;32m^\n",
      "\u001b[0m\u001b[1m/home/kirill/miniconda3/envs/cling/include/xflens/cxxblas/auxiliary/complex.tcc:54:1: \u001b[0m\u001b[0;1;30mnote: \u001b[0mcandidate template ignored: could not match 'complex<type-parameter-0-0>' against 'const __cling_N52::PT'\u001b[0m\n",
      "conjugate(const std::complex<T> &x)\n",
      "\u001b[0;1;32m^\n",
      "\u001b[0m"
     ]
    }
   ],
   "source": [
    "auto res = linalg::dot(a0,a1);"
   ]
  },
  {
   "cell_type": "code",
   "execution_count": 2,
   "id": "genetic-rolling",
   "metadata": {},
   "outputs": [],
   "source": [
    "\n",
    "\n",
    "typedef struct node {\n",
    "    int id;\n",
    "\n",
    "    \n",
    "    union data_t {\n",
    "        \n",
    "        std::string name;\n",
    "        xarray<double> numerical_tensor;\n",
    "        int number;\n",
    "        double float_number;\n",
    "    \n",
    "        xarray<node> tensor;\n",
    "    };\n",
    "    \n",
    "} node2;\n"
   ]
  },
  {
   "cell_type": "code",
   "execution_count": null,
   "id": "emerging-moderator",
   "metadata": {},
   "outputs": [],
   "source": []
  },
  {
   "cell_type": "code",
   "execution_count": null,
   "id": "defensive-transport",
   "metadata": {},
   "outputs": [],
   "source": [
    "node2 jk;"
   ]
  },
  {
   "cell_type": "code",
   "execution_count": null,
   "id": "irish-surname",
   "metadata": {},
   "outputs": [],
   "source": [
    "c.vec"
   ]
  },
  {
   "cell_type": "code",
   "execution_count": 2,
   "id": "victorian-behavior",
   "metadata": {},
   "outputs": [
    {
     "data": {
      "text/html": [
       "<table style='border-style:solid;border-width:1px;'><tbody><tr><td style='font-family:monospace;' title='(0, 0)'><pre> 1.333333</pre></td><td style='font-family:monospace;' title='(0, 1)'><pre> 2.666667</pre></td><td style='font-family:monospace;' title='(0, 2)'><pre> 4.      </pre></td></tr><tr><td style='font-family:monospace;' title='(1, 0)'><pre> 5.333333</pre></td><td style='font-family:monospace;' title='(1, 1)'><pre> 8.      </pre></td><td style='font-family:monospace;' title='(1, 2)'><pre> 8.      </pre></td></tr></tbody></table>"
      ]
     },
     "execution_count": 2,
     "metadata": {},
     "output_type": "execute_result"
    }
   ],
   "source": [
    "xarray<double>::shape_type shape = {2, 3};\n",
    "xarray<double> a0(shape);\n",
    "xarray<double> a1(shape);\n",
    "\n",
    "a0={{1,2,3},{4,6,6}};\n",
    "a1={{1,2,3},{4,6,6}};\n",
    "\n",
    "a0 + a1/3\n"
   ]
  },
  {
   "cell_type": "code",
   "execution_count": 4,
   "id": "legal-lover",
   "metadata": {},
   "outputs": [
    {
     "data": {
      "text/html": [
       "<table style='border-style:solid;border-width:1px;'><tbody><tr><td style='font-family:monospace;' title='(0, 0)'><pre> 1.</pre></td><td style='font-family:monospace;' title='(0, 1)'><pre> 2.</pre></td><td style='font-family:monospace;' title='(0, 2)'><pre> 3.</pre></td></tr><tr><td style='font-family:monospace;' title='(1, 0)'><pre> 4.</pre></td><td style='font-family:monospace;' title='(1, 1)'><pre> 6.</pre></td><td style='font-family:monospace;' title='(1, 2)'><pre> 6.</pre></td></tr></tbody></table>"
      ]
     },
     "execution_count": 4,
     "metadata": {},
     "output_type": "execute_result"
    }
   ],
   "source": [
    "a0"
   ]
  },
  {
   "cell_type": "code",
   "execution_count": 5,
   "id": "classical-spirituality",
   "metadata": {},
   "outputs": [
    {
     "data": {
      "text/plain": [
       "1.0000000"
      ]
     },
     "execution_count": 5,
     "metadata": {},
     "output_type": "execute_result"
    }
   ],
   "source": [
    "auto u = diag(a0);\n",
    "u(0,0)"
   ]
  },
  {
   "cell_type": "code",
   "execution_count": 3,
   "id": "sufficient-solution",
   "metadata": {},
   "outputs": [],
   "source": [
    "xarray<double>::shape_type shape = {1,3};\n",
    "xarray<ciran> inhomo(shape);"
   ]
  },
  {
   "cell_type": "code",
   "execution_count": 8,
   "id": "certified-consistency",
   "metadata": {},
   "outputs": [],
   "source": [
    "inhomo(0,0).i = 5;\n",
    "inhomo(0,1).i = -1;\n",
    "inhomo(1,0).i = 1;"
   ]
  },
  {
   "cell_type": "code",
   "execution_count": 5,
   "id": "substantial-technology",
   "metadata": {},
   "outputs": [
    {
     "data": {
      "text/plain": [
       "5"
      ]
     },
     "execution_count": 5,
     "metadata": {},
     "output_type": "execute_result"
    }
   ],
   "source": [
    "inhomo(0,0).i"
   ]
  },
  {
   "cell_type": "code",
   "execution_count": 9,
   "id": "played-evans",
   "metadata": {},
   "outputs": [],
   "source": [
    "auto u = transpose(inhomo);"
   ]
  },
  {
   "cell_type": "code",
   "execution_count": 2,
   "id": "molecular-tracker",
   "metadata": {},
   "outputs": [],
   "source": [
    "typedef struct {\n",
    "    int i;\n",
    "    double k;\n",
    "} ciran;"
   ]
  },
  {
   "cell_type": "code",
   "execution_count": 13,
   "id": "earlier-nomination",
   "metadata": {},
   "outputs": [
    {
     "name": "stderr",
     "output_type": "stream",
     "text": [
      "In file included from input_line_9:1:\n",
      "In file included from /home/kirill/miniconda3/envs/cling/include/xtensor/xarray.hpp:20:\n",
      "In file included from /home/kirill/miniconda3/envs/cling/include/xtensor/xcontainer.hpp:25:\n",
      "In file included from /home/kirill/miniconda3/envs/cling/include/xtensor/xmath.hpp:28:\n",
      "In file included from /home/kirill/miniconda3/envs/cling/include/xtensor/xmanipulation.hpp:13:\n",
      "In file included from /home/kirill/miniconda3/envs/cling/include/xtensor/xbuilder.hpp:32:\n",
      "\u001b[1m/home/kirill/miniconda3/envs/cling/include/xtensor/xoperation.hpp:109:45: \u001b[0m\u001b[0;1;31merror: \u001b[0m\u001b[1minvalid operands to binary expression ('ciran' and 'int')\u001b[0m\n",
      "        BINARY_OPERATOR_FUNCTOR(multiplies, *);\n",
      "\u001b[0;1;32m        ~~~~~~~~~~~~~~~~~~~~~~~~~~~~~~~~~~~~^~\n",
      "\u001b[0m\u001b[1m/home/kirill/miniconda3/envs/cling/include/xtensor/xoperation.hpp:75:44: \u001b[0m\u001b[0;1;30mnote: \u001b[0mexpanded from macro 'BINARY_OPERATOR_FUNCTOR'\u001b[0m\n",
      "            return (std::forward<T1>(arg1) OP std::forward<T2>(arg2));           \\\n",
      "\u001b[0;1;32m                    ~~~~~~~~~~~~~~~~~~~~~~ ^  ~~~~~~~~~~~~~~~~~~~~~~\n",
      "\u001b[0m\u001b[1m/home/kirill/miniconda3/envs/cling/include/xtensor/xfunction.hpp:145:60: \u001b[0m\u001b[0;1;30mnote: \u001b[0min instantiation of function template specialization 'xt::detail::multiplies::operator()<ciran, int>' requested here\u001b[0m\n",
      "        using value_type = typename meta_identity<decltype(std::declval<F>()(std::declval<xvalue_type_t<std::dec...\n",
      "\u001b[0;1;32m                                                           ^\n",
      "\u001b[0m\u001b[1m/home/kirill/miniconda3/envs/cling/include/xtensor/xaccessible.hpp:35:36: \u001b[0m\u001b[0;1;30mnote: \u001b[0min instantiation of template class 'xt::xcontainer_inner_types<xt::xfunction<xt::detail::multiplies, const\n",
      "      xt::xstrided_view<xt::xarray_container<xt::uvector<ciran, std::allocator<ciran> >, xt::layout_type::row_major,\n",
      "      xt::svector<unsigned long, 4, std::allocator<unsigned long>, true>, xt::xtensor_expression_tag> &,\n",
      "      xt::svector<unsigned long, 4, std::allocator<unsigned long>, true>, xt::layout_type::dynamic,\n",
      "      xt::detail::inner_storage_getter<xt::xarray_container<xt::uvector<ciran, std::allocator<ciran> >,\n",
      "      xt::layout_type::row_major, xt::svector<unsigned long, 4, std::allocator<unsigned long>, true>,\n",
      "      xt::xtensor_expression_tag> &> > &, xt::xscalar<int> > >' requested here\u001b[0m\n",
      "        using reference = typename inner_types::reference;\n",
      "\u001b[0;1;32m                                   ^\n",
      "\u001b[0m\u001b[1m/home/kirill/miniconda3/envs/cling/include/xtensor/xfunction.hpp:177:31: \u001b[0m\u001b[0;1;30mnote: \u001b[0min instantiation of template class 'xt::xconst_accessible<xt::xfunction<xt::detail::multiplies, const\n",
      "      xt::xstrided_view<xt::xarray_container<xt::uvector<ciran, std::allocator<ciran> >, xt::layout_type::row_major,\n",
      "      xt::svector<unsigned long, 4, std::allocator<unsigned long>, true>, xt::xtensor_expression_tag> &,\n",
      "      xt::svector<unsigned long, 4, std::allocator<unsigned long>, true>, xt::layout_type::dynamic,\n",
      "      xt::detail::inner_storage_getter<xt::xarray_container<xt::uvector<ciran, std::allocator<ciran> >,\n",
      "      xt::layout_type::row_major, xt::svector<unsigned long, 4, std::allocator<unsigned long>, true>,\n",
      "      xt::xtensor_expression_tag> &> > &, xt::xscalar<int> > >' requested here\u001b[0m\n",
      "                      private xconst_accessible<xfunction<F, CT...>>,\n",
      "\u001b[0;1;32m                              ^\n",
      "\u001b[0m\u001b[1minput_line_33:2:3: \u001b[0m\u001b[0;1;30mnote: \u001b[0min instantiation of template class 'xt::xfunction<xt::detail::multiplies, const\n",
      "      xt::xstrided_view<xt::xarray_container<xt::uvector<ciran, std::allocator<ciran> >, xt::layout_type::row_major,\n",
      "      xt::svector<unsigned long, 4, std::allocator<unsigned long>, true>, xt::xtensor_expression_tag> &,\n",
      "      xt::svector<unsigned long, 4, std::allocator<unsigned long>, true>, xt::layout_type::dynamic,\n",
      "      xt::detail::inner_storage_getter<xt::xarray_container<xt::uvector<ciran, std::allocator<ciran> >,\n",
      "      xt::layout_type::row_major, xt::svector<unsigned long, 4, std::allocator<unsigned long>, true>,\n",
      "      xt::xtensor_expression_tag> &> > &, xt::xscalar<int> >' requested here\u001b[0m\n",
      " u*2\n",
      "\u001b[0;1;32m  ^\n",
      "\u001b[0m\u001b[1m/home/kirill/miniconda3/envs/cling/include/xtensor/xoperation.hpp:88:9: \u001b[0m\u001b[0;1;30mnote: \u001b[0mcandidate template ignored: could not match 'complex<type-parameter-0-0>' against 'ciran'\u001b[0m\n",
      "        DEFINE_COMPLEX_OVERLOAD(*);\n",
      "\u001b[0;1;32m        ^\n",
      "\u001b[0m\u001b[1m/home/kirill/miniconda3/envs/cling/include/xtensor/xoperation.hpp:48:16: \u001b[0m\u001b[0;1;30mnote: \u001b[0mexpanded from macro 'DEFINE_COMPLEX_OVERLOAD'\u001b[0m\n",
      "constexpr auto operator OP(const std::complex<T1>& arg1, const std::complex<T2>& arg2)    \\\n",
      "\u001b[0;1;32m               ^\n",
      "\u001b[0m\u001b[1m/home/kirill/miniconda3/envs/cling/include/xtensor/xoperation.hpp:88:9: \u001b[0m\u001b[0;1;30mnote: \u001b[0mcandidate template ignored: could not match 'complex<type-parameter-0-1>' against 'int'\u001b[0m\n",
      "\u001b[1m/home/kirill/miniconda3/envs/cling/include/xtensor/xoperation.hpp:55:16: \u001b[0m\u001b[0;1;30mnote: \u001b[0mexpanded from macro 'DEFINE_COMPLEX_OVERLOAD'\u001b[0m\n",
      "constexpr auto operator OP(const T1& arg1, const std::complex<T2>& arg2)                  \\\n",
      "\u001b[0;1;32m               ^\n",
      "\u001b[0m\u001b[1m/home/kirill/miniconda3/envs/cling/include/xtensor/xoperation.hpp:88:9: \u001b[0m\u001b[0;1;30mnote: \u001b[0mcandidate template ignored: could not match 'complex<type-parameter-0-0>' against 'ciran'\u001b[0m\n",
      "\u001b[1m/home/kirill/miniconda3/envs/cling/include/xtensor/xoperation.hpp:62:16: \u001b[0m\u001b[0;1;30mnote: \u001b[0mexpanded from macro 'DEFINE_COMPLEX_OVERLOAD'\u001b[0m\n",
      "constexpr auto operator OP(const std::complex<T1>& arg1, const T2& arg2)                  \\\n",
      "\u001b[0;1;32m               ^\n",
      "\u001b[0mIn file included from input_line_9:1:\n",
      "In file included from /home/kirill/miniconda3/envs/cling/include/xtensor/xarray.hpp:17:\n",
      "In file included from /home/kirill/miniconda3/envs/cling/include/xtl/xsequence.hpp:20:\n",
      "In file included from /home/kirill/miniconda3/envs/cling/include/xtl/xmeta_utils.hpp:17:\n",
      "In file included from /home/kirill/miniconda3/envs/cling/include/xtl/xfunctional.hpp:16:\n",
      "\u001b[1m/home/kirill/miniconda3/envs/cling/include/xtl/xtype_traits.hpp:88:64: \u001b[0m\u001b[0;1;31merror: \u001b[0m\u001b[1minvalid operands to binary expression ('ciran' and 'int')\u001b[0m\n",
      "        using type = decltype(std::declval<std::decay_t<T0>>() + std::declval<std::decay_t<T1>>());\n",
      "\u001b[0;1;32m                              ~~~~~~~~~~~~~~~~~~~~~~~~~~~~~~~~ ^ ~~~~~~~~~~~~~~~~~~~~~~~~~~~~~~~~\n",
      "\u001b[0m\u001b[1m/home/kirill/miniconda3/envs/cling/include/xtl/xtype_traits.hpp:149:5: \u001b[0m\u001b[0;1;30mnote: \u001b[0min instantiation of template class 'xtl::promote_type<ciran, int>' requested here\u001b[0m\n",
      "    using promote_type_t = typename promote_type<T...>::type;\n",
      "\u001b[0;1;32m    ^\n",
      "\u001b[0m\u001b[1m/home/kirill/miniconda3/envs/cling/include/xtensor/xfunction.hpp:82:31: \u001b[0m\u001b[0;1;30mnote: \u001b[0min instantiation of template type alias 'promote_type_t' requested here\u001b[0m\n",
      "            using type = xtl::promote_type_t<typename std::decay_t<CT>::bool_load_type...>;\n",
      "\u001b[0;1;32m                              ^\n",
      "\u001b[0m\u001b[1m/home/kirill/miniconda3/envs/cling/include/xtensor/xfunction.hpp:92:9: \u001b[0m\u001b[0;1;30mnote: \u001b[0min instantiation of template class 'xt::detail::xfunction_bool_load_type<const\n",
      "      xt::xstrided_view<xt::xarray_container<xt::uvector<ciran, std::allocator<ciran> >, xt::layout_type::row_major,\n",
      "      xt::svector<unsigned long, 4, std::allocator<unsigned long>, true>, xt::xtensor_expression_tag> &,\n",
      "      xt::svector<unsigned long, 4, std::allocator<unsigned long>, true>, xt::layout_type::dynamic,\n",
      "      xt::detail::inner_storage_getter<xt::xarray_container<xt::uvector<ciran, std::allocator<ciran> >,\n",
      "      xt::layout_type::row_major, xt::svector<unsigned long, 4, std::allocator<unsigned long>, true>,\n",
      "      xt::xtensor_expression_tag> &> > &, xt::xscalar<int> >' requested here\u001b[0m\n",
      "        using xfunction_bool_load_type_t = typename xfunction_bool_load_type<CT...>::type;\n",
      "\u001b[0;1;32m        ^\n",
      "\u001b[0m\u001b[1m/home/kirill/miniconda3/envs/cling/include/xtensor/xfunction.hpp:200:40: \u001b[0m\u001b[0;1;30mnote: \u001b[0min instantiation of template type alias 'xfunction_bool_load_type_t' requested here\u001b[0m\n",
      "        using bool_load_type = detail::xfunction_bool_load_type_t<CT...>;// xtl::promote_type_t<typename std::de...\n",
      "\u001b[0;1;32m                                       ^\n"
     ]
    },
    {
     "name": "stderr",
     "output_type": "stream",
     "text": [
      "\u001b[0m\u001b[1minput_line_33:2:3: \u001b[0m\u001b[0;1;30mnote: \u001b[0min instantiation of template class 'xt::xfunction<xt::detail::multiplies, const\n",
      "      xt::xstrided_view<xt::xarray_container<xt::uvector<ciran, std::allocator<ciran> >, xt::layout_type::row_major,\n",
      "      xt::svector<unsigned long, 4, std::allocator<unsigned long>, true>, xt::xtensor_expression_tag> &,\n",
      "      xt::svector<unsigned long, 4, std::allocator<unsigned long>, true>, xt::layout_type::dynamic,\n",
      "      xt::detail::inner_storage_getter<xt::xarray_container<xt::uvector<ciran, std::allocator<ciran> >,\n",
      "      xt::layout_type::row_major, xt::svector<unsigned long, 4, std::allocator<unsigned long>, true>,\n",
      "      xt::xtensor_expression_tag> &> > &, xt::xscalar<int> >' requested here\u001b[0m\n",
      " u*2\n",
      "\u001b[0;1;32m  ^\n",
      "\u001b[0m\u001b[1m/home/kirill/miniconda3/envs/cling/include/xtl/xbasic_fixed_string.hpp:2029:5: \u001b[0m\u001b[0;1;30mnote: \u001b[0mcandidate template ignored: could not match 'xbasic_fixed_string<type-parameter-0-0, N, ST, , type-parameter-0-4>'\n",
      "      against 'ciran'\u001b[0m\n",
      "    operator+(const xbasic_fixed_string<CT, N, ST, EP, TR>& lhs,\n",
      "\u001b[0;1;32m    ^\n",
      "\u001b[0m\u001b[1m/home/kirill/miniconda3/envs/cling/include/xtl/xbasic_fixed_string.hpp:2038:5: \u001b[0m\u001b[0;1;30mnote: \u001b[0mcandidate template ignored: could not match 'xbasic_fixed_string<type-parameter-0-0, N, ST, , type-parameter-0-4>'\n",
      "      against 'ciran'\u001b[0m\n",
      "    operator+(const xbasic_fixed_string<CT, N, ST, EP, TR>& lhs,\n",
      "\u001b[0;1;32m    ^\n",
      "\u001b[0m\u001b[1m/home/kirill/miniconda3/envs/cling/include/xtl/xbasic_fixed_string.hpp:2047:5: \u001b[0m\u001b[0;1;30mnote: \u001b[0mcandidate template ignored: could not match 'xbasic_fixed_string<type-parameter-0-0, N, ST, , type-parameter-0-4>'\n",
      "      against 'ciran'\u001b[0m\n",
      "    operator+(const xbasic_fixed_string<CT, N, ST, EP, TR>& lhs,\n",
      "\u001b[0;1;32m    ^\n",
      "\u001b[0m\u001b[1m/home/kirill/miniconda3/envs/cling/include/xtl/xbasic_fixed_string.hpp:2056:5: \u001b[0m\u001b[0;1;30mnote: \u001b[0mcandidate template ignored: could not match 'const CT *' against 'ciran'\u001b[0m\n",
      "    operator+(const CT* lhs,\n",
      "\u001b[0;1;32m    ^\n",
      "\u001b[0m\u001b[1m/home/kirill/miniconda3/envs/cling/include/xtl/xbasic_fixed_string.hpp:2065:5: \u001b[0m\u001b[0;1;30mnote: \u001b[0mcandidate template ignored: could not match 'xbasic_fixed_string<type-parameter-0-0, N, ST, , type-parameter-0-4>'\n",
      "      against 'int'\u001b[0m\n",
      "    operator+(CT lhs,\n",
      "\u001b[0;1;32m    ^\n",
      "\u001b[0m\u001b[1m/home/kirill/miniconda3/envs/cling/include/xtl/xbasic_fixed_string.hpp:2075:5: \u001b[0m\u001b[0;1;30mnote: \u001b[0mcandidate template ignored: could not match 'xbasic_fixed_string<type-parameter-0-0, N, ST, , type-parameter-0-4>'\n",
      "      against 'ciran'\u001b[0m\n",
      "    operator+(const xbasic_fixed_string<CT, N, ST, EP, TR>&& lhs,\n",
      "\u001b[0;1;32m    ^\n",
      "\u001b[0m\u001b[1m/home/kirill/miniconda3/envs/cling/include/xtl/xbasic_fixed_string.hpp:2084:5: \u001b[0m\u001b[0;1;30mnote: \u001b[0mcandidate template ignored: could not match 'xbasic_fixed_string<type-parameter-0-0, N, ST, , type-parameter-0-4>'\n",
      "      against 'ciran'\u001b[0m\n",
      "    operator+(const xbasic_fixed_string<CT, N, ST, EP, TR>& lhs,\n",
      "\u001b[0;1;32m    ^\n",
      "\u001b[0m\u001b[1m/home/kirill/miniconda3/envs/cling/include/xtl/xbasic_fixed_string.hpp:2093:5: \u001b[0m\u001b[0;1;30mnote: \u001b[0mcandidate template ignored: could not match 'xbasic_fixed_string<type-parameter-0-0, N, ST, , type-parameter-0-4>'\n",
      "      against 'ciran'\u001b[0m\n",
      "    operator+(const xbasic_fixed_string<CT, N, ST, EP, TR>&& lhs,\n",
      "\u001b[0;1;32m    ^\n",
      "\u001b[0m\u001b[1m/home/kirill/miniconda3/envs/cling/include/xtl/xbasic_fixed_string.hpp:2102:5: \u001b[0m\u001b[0;1;30mnote: \u001b[0mcandidate template ignored: could not match 'xbasic_fixed_string<type-parameter-0-0, N, ST, , type-parameter-0-4>'\n",
      "      against 'ciran'\u001b[0m\n",
      "    operator+(const xbasic_fixed_string<CT, N, ST, EP, TR>&& lhs,\n",
      "\u001b[0;1;32m    ^\n",
      "\u001b[0m\u001b[1m/home/kirill/miniconda3/envs/cling/include/xtl/xbasic_fixed_string.hpp:2111:5: \u001b[0m\u001b[0;1;30mnote: \u001b[0mcandidate template ignored: could not match 'xbasic_fixed_string<type-parameter-0-0, N, ST, , type-parameter-0-4>'\n",
      "      against 'ciran'\u001b[0m\n",
      "    operator+(const xbasic_fixed_string<CT, N, ST, EP, TR>&& lhs,\n",
      "\u001b[0;1;32m    ^\n",
      "\u001b[0m\u001b[1m/home/kirill/miniconda3/envs/cling/include/xtl/xbasic_fixed_string.hpp:2120:5: \u001b[0m\u001b[0;1;30mnote: \u001b[0mcandidate template ignored: could not match 'const CT *' against 'ciran'\u001b[0m\n",
      "    operator+(const CT* lhs,\n",
      "\u001b[0;1;32m    ^\n",
      "\u001b[0m\u001b[1m/home/kirill/miniconda3/envs/cling/include/xtl/xbasic_fixed_string.hpp:2129:5: \u001b[0m\u001b[0;1;30mnote: \u001b[0mcandidate template ignored: could not match 'xbasic_fixed_string<type-parameter-0-0, N, ST, , type-parameter-0-4>'\n",
      "      against 'int'\u001b[0m\n",
      "    operator+(CT lhs,\n",
      "\u001b[0;1;32m    ^\n",
      "\u001b[0mIn file included from input_line_9:1:\n",
      "In file included from /home/kirill/miniconda3/envs/cling/include/xtensor/xarray.hpp:20:\n",
      "In file included from /home/kirill/miniconda3/envs/cling/include/xtensor/xcontainer.hpp:25:\n",
      "In file included from /home/kirill/miniconda3/envs/cling/include/xtensor/xmath.hpp:28:\n",
      "In file included from /home/kirill/miniconda3/envs/cling/include/xtensor/xmanipulation.hpp:13:\n",
      "In file included from /home/kirill/miniconda3/envs/cling/include/xtensor/xbuilder.hpp:30:\n",
      "\u001b[1m/home/kirill/miniconda3/envs/cling/include/xtensor/xfunction.hpp:284:15: \u001b[0m\u001b[0;1;31merror: \u001b[0m\u001b[1musing declaration refers into 'iterable_base::', which is not a base class of 'xfunction<xt::detail::multiplies, const\n",
      "      xt::xstrided_view<xt::xarray_container<xt::uvector<ciran, std::allocator<ciran> >, xt::layout_type::row_major,\n",
      "      xt::svector<unsigned long, 4, std::allocator<unsigned long>, true>, xt::xtensor_expression_tag> &,\n",
      "      xt::svector<unsigned long, 4, std::allocator<unsigned long>, true>, xt::layout_type::dynamic,\n",
      "      xt::detail::inner_storage_getter<xt::xarray_container<xt::uvector<ciran, std::allocator<ciran> >,\n",
      "      xt::layout_type::row_major, xt::svector<unsigned long, 4, std::allocator<unsigned long>, true>,\n",
      "      xt::xtensor_expression_tag> &> > &, xt::xscalar<int> >'\u001b[0m\n",
      "        using iterable_base::begin;\n",
      "\u001b[0;1;32m              ^~~~~~~~~~~~~~~\n",
      "\u001b[0m\u001b[1minput_line_33:2:3: \u001b[0m\u001b[0;1;30mnote: \u001b[0min instantiation of template class 'xt::xfunction<xt::detail::multiplies, const\n",
      "      xt::xstrided_view<xt::xarray_container<xt::uvector<ciran, std::allocator<ciran> >, xt::layout_type::row_major,\n",
      "      xt::svector<unsigned long, 4, std::allocator<unsigned long>, true>, xt::xtensor_expression_tag> &,\n",
      "      xt::svector<unsigned long, 4, std::allocator<unsigned long>, true>, xt::layout_type::dynamic,\n",
      "      xt::detail::inner_storage_getter<xt::xarray_container<xt::uvector<ciran, std::allocator<ciran> >,\n",
      "      xt::layout_type::row_major, xt::svector<unsigned long, 4, std::allocator<unsigned long>, true>,\n",
      "      xt::xtensor_expression_tag> &> > &, xt::xscalar<int> >' requested here\u001b[0m\n",
      " u*2\n",
      "\u001b[0;1;32m  ^\n",
      "\u001b[0mIn file included from input_line_9:1:\n",
      "In file included from /home/kirill/miniconda3/envs/cling/include/xtensor/xarray.hpp:20:\n",
      "In file included from /home/kirill/miniconda3/envs/cling/include/xtensor/xcontainer.hpp:25:\n",
      "In file included from /home/kirill/miniconda3/envs/cling/include/xtensor/xmath.hpp:28:\n",
      "In file included from /home/kirill/miniconda3/envs/cling/include/xtensor/xmanipulation.hpp:13:\n",
      "In file included from /home/kirill/miniconda3/envs/cling/include/xtensor/xbuilder.hpp:30:\n",
      "\u001b[1m/home/kirill/miniconda3/envs/cling/include/xtensor/xfunction.hpp:285:15: \u001b[0m\u001b[0;1;31merror: \u001b[0m\u001b[1musing declaration refers into 'iterable_base::', which is not a base class of 'xfunction<xt::detail::multiplies, const\n",
      "      xt::xstrided_view<xt::xarray_container<xt::uvector<ciran, std::allocator<ciran> >, xt::layout_type::row_major,\n",
      "      xt::svector<unsigned long, 4, std::allocator<unsigned long>, true>, xt::xtensor_expression_tag> &,\n",
      "      xt::svector<unsigned long, 4, std::allocator<unsigned long>, true>, xt::layout_type::dynamic,\n",
      "      xt::detail::inner_storage_getter<xt::xarray_container<xt::uvector<ciran, std::allocator<ciran> >,\n",
      "      xt::layout_type::row_major, xt::svector<unsigned long, 4, std::allocator<unsigned long>, true>,\n",
      "      xt::xtensor_expression_tag> &> > &, xt::xscalar<int> >'\u001b[0m\n",
      "        using iterable_base::end;\n",
      "\u001b[0;1;32m              ^~~~~~~~~~~~~~~\n"
     ]
    },
    {
     "name": "stderr",
     "output_type": "stream",
     "text": [
      "\u001b[0m\u001b[1m/home/kirill/miniconda3/envs/cling/include/xtensor/xfunction.hpp:286:15: \u001b[0m\u001b[0;1;31merror: \u001b[0m\u001b[1musing declaration refers into 'iterable_base::', which is not a base class of 'xfunction<xt::detail::multiplies, const\n",
      "      xt::xstrided_view<xt::xarray_container<xt::uvector<ciran, std::allocator<ciran> >, xt::layout_type::row_major,\n",
      "      xt::svector<unsigned long, 4, std::allocator<unsigned long>, true>, xt::xtensor_expression_tag> &,\n",
      "      xt::svector<unsigned long, 4, std::allocator<unsigned long>, true>, xt::layout_type::dynamic,\n",
      "      xt::detail::inner_storage_getter<xt::xarray_container<xt::uvector<ciran, std::allocator<ciran> >,\n",
      "      xt::layout_type::row_major, xt::svector<unsigned long, 4, std::allocator<unsigned long>, true>,\n",
      "      xt::xtensor_expression_tag> &> > &, xt::xscalar<int> >'\u001b[0m\n",
      "        using iterable_base::cbegin;\n",
      "\u001b[0;1;32m              ^~~~~~~~~~~~~~~\n",
      "\u001b[0m\u001b[1m/home/kirill/miniconda3/envs/cling/include/xtensor/xfunction.hpp:287:15: \u001b[0m\u001b[0;1;31merror: \u001b[0m\u001b[1musing declaration refers into 'iterable_base::', which is not a base class of 'xfunction<xt::detail::multiplies, const\n",
      "      xt::xstrided_view<xt::xarray_container<xt::uvector<ciran, std::allocator<ciran> >, xt::layout_type::row_major,\n",
      "      xt::svector<unsigned long, 4, std::allocator<unsigned long>, true>, xt::xtensor_expression_tag> &,\n",
      "      xt::svector<unsigned long, 4, std::allocator<unsigned long>, true>, xt::layout_type::dynamic,\n",
      "      xt::detail::inner_storage_getter<xt::xarray_container<xt::uvector<ciran, std::allocator<ciran> >,\n",
      "      xt::layout_type::row_major, xt::svector<unsigned long, 4, std::allocator<unsigned long>, true>,\n",
      "      xt::xtensor_expression_tag> &> > &, xt::xscalar<int> >'\u001b[0m\n",
      "        using iterable_base::cend;\n",
      "\u001b[0;1;32m              ^~~~~~~~~~~~~~~\n",
      "\u001b[0m\u001b[1m/home/kirill/miniconda3/envs/cling/include/xtensor/xfunction.hpp:288:15: \u001b[0m\u001b[0;1;31merror: \u001b[0m\u001b[1musing declaration refers into 'iterable_base::', which is not a base class of 'xfunction<xt::detail::multiplies, const\n",
      "      xt::xstrided_view<xt::xarray_container<xt::uvector<ciran, std::allocator<ciran> >, xt::layout_type::row_major,\n",
      "      xt::svector<unsigned long, 4, std::allocator<unsigned long>, true>, xt::xtensor_expression_tag> &,\n",
      "      xt::svector<unsigned long, 4, std::allocator<unsigned long>, true>, xt::layout_type::dynamic,\n",
      "      xt::detail::inner_storage_getter<xt::xarray_container<xt::uvector<ciran, std::allocator<ciran> >,\n",
      "      xt::layout_type::row_major, xt::svector<unsigned long, 4, std::allocator<unsigned long>, true>,\n",
      "      xt::xtensor_expression_tag> &> > &, xt::xscalar<int> >'\u001b[0m\n",
      "        using iterable_base::rbegin;\n",
      "\u001b[0;1;32m              ^~~~~~~~~~~~~~~\n",
      "\u001b[0m\u001b[1m/home/kirill/miniconda3/envs/cling/include/xtensor/xfunction.hpp:289:15: \u001b[0m\u001b[0;1;31merror: \u001b[0m\u001b[1musing declaration refers into 'iterable_base::', which is not a base class of 'xfunction<xt::detail::multiplies, const\n",
      "      xt::xstrided_view<xt::xarray_container<xt::uvector<ciran, std::allocator<ciran> >, xt::layout_type::row_major,\n",
      "      xt::svector<unsigned long, 4, std::allocator<unsigned long>, true>, xt::xtensor_expression_tag> &,\n",
      "      xt::svector<unsigned long, 4, std::allocator<unsigned long>, true>, xt::layout_type::dynamic,\n",
      "      xt::detail::inner_storage_getter<xt::xarray_container<xt::uvector<ciran, std::allocator<ciran> >,\n",
      "      xt::layout_type::row_major, xt::svector<unsigned long, 4, std::allocator<unsigned long>, true>,\n",
      "      xt::xtensor_expression_tag> &> > &, xt::xscalar<int> >'\u001b[0m\n",
      "        using iterable_base::rend;\n",
      "\u001b[0;1;32m              ^~~~~~~~~~~~~~~\n",
      "\u001b[0m\u001b[1m/home/kirill/miniconda3/envs/cling/include/xtensor/xfunction.hpp:290:15: \u001b[0m\u001b[0;1;31merror: \u001b[0m\u001b[1musing declaration refers into 'iterable_base::', which is not a base class of 'xfunction<xt::detail::multiplies, const\n",
      "      xt::xstrided_view<xt::xarray_container<xt::uvector<ciran, std::allocator<ciran> >, xt::layout_type::row_major,\n",
      "      xt::svector<unsigned long, 4, std::allocator<unsigned long>, true>, xt::xtensor_expression_tag> &,\n",
      "      xt::svector<unsigned long, 4, std::allocator<unsigned long>, true>, xt::layout_type::dynamic,\n",
      "      xt::detail::inner_storage_getter<xt::xarray_container<xt::uvector<ciran, std::allocator<ciran> >,\n",
      "      xt::layout_type::row_major, xt::svector<unsigned long, 4, std::allocator<unsigned long>, true>,\n",
      "      xt::xtensor_expression_tag> &> > &, xt::xscalar<int> >'\u001b[0m\n",
      "        using iterable_base::crbegin;\n",
      "\u001b[0;1;32m              ^~~~~~~~~~~~~~~\n",
      "\u001b[0m\u001b[1m/home/kirill/miniconda3/envs/cling/include/xtensor/xfunction.hpp:291:15: \u001b[0m\u001b[0;1;31merror: \u001b[0m\u001b[1musing declaration refers into 'iterable_base::', which is not a base class of 'xfunction<xt::detail::multiplies, const\n",
      "      xt::xstrided_view<xt::xarray_container<xt::uvector<ciran, std::allocator<ciran> >, xt::layout_type::row_major,\n",
      "      xt::svector<unsigned long, 4, std::allocator<unsigned long>, true>, xt::xtensor_expression_tag> &,\n",
      "      xt::svector<unsigned long, 4, std::allocator<unsigned long>, true>, xt::layout_type::dynamic,\n",
      "      xt::detail::inner_storage_getter<xt::xarray_container<xt::uvector<ciran, std::allocator<ciran> >,\n",
      "      xt::layout_type::row_major, xt::svector<unsigned long, 4, std::allocator<unsigned long>, true>,\n",
      "      xt::xtensor_expression_tag> &> > &, xt::xscalar<int> >'\u001b[0m\n",
      "        using iterable_base::crend;\n",
      "\u001b[0;1;32m              ^~~~~~~~~~~~~~~\n",
      "\u001b[0m"
     ]
    },
    {
     "ename": "Interpreter Error",
     "evalue": "",
     "output_type": "error",
     "traceback": [
      "Interpreter Error: "
     ]
    }
   ],
   "source": [
    "u*2"
   ]
  },
  {
   "cell_type": "code",
   "execution_count": 4,
   "id": "immediate-designer",
   "metadata": {},
   "outputs": [],
   "source": [
    "xarray<double>::shape_type shape = {2, 3};\n",
    "xarray<kiran> a0(shape);\n",
    "xarray<kiran> a1(shape);\n",
    "xarray<kiran> a2(shape);\n"
   ]
  },
  {
   "cell_type": "code",
   "execution_count": 5,
   "id": "american-toolbox",
   "metadata": {},
   "outputs": [],
   "source": [
    "auto u = diag(a0);"
   ]
  },
  {
   "cell_type": "code",
   "execution_count": null,
   "id": "verbal-subscription",
   "metadata": {},
   "outputs": [],
   "source": [
    "a0(0,0).i=0;"
   ]
  },
  {
   "cell_type": "code",
   "execution_count": null,
   "id": "geographic-consortium",
   "metadata": {},
   "outputs": [],
   "source": []
  }
 ],
 "metadata": {
  "kernelspec": {
   "display_name": "C++17",
   "language": "C++17",
   "name": "xcpp17"
  },
  "language_info": {
   "codemirror_mode": "text/x-c++src",
   "file_extension": ".cpp",
   "mimetype": "text/x-c++src",
   "name": "c++",
   "version": "17"
  }
 },
 "nbformat": 4,
 "nbformat_minor": 5
}
