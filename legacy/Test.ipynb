{
 "cells": [
  {
   "cell_type": "code",
   "execution_count": 1,
   "id": "offshore-structure",
   "metadata": {},
   "outputs": [],
   "source": [
    "#include <iostream>\n",
    "// Base Arrays:\n",
    "#include \"xtensor/xarray.hpp\"\n",
    "#include \"xtensor-blas/xlinalg.hpp\"\n",
    "// XTensor IO:\n",
    "#include \"xtensor/xio.hpp\"\n",
    "// XTensor View:\n",
    "#include \"xtensor/xview.hpp\"\n",
    "#include <wstp.h>\n",
    "\n",
    "#pragma cling load(\"libomp.so\")\n",
    "#pragma cling load(\"libWSTP64i4.so\")\n",
    "#include <omp.h>\n",
    "\n",
    "\n",
    "using namespace xt; "
   ]
  },
  {
   "cell_type": "code",
   "execution_count": null,
   "id": "acting-context",
   "metadata": {},
   "outputs": [],
   "source": [
    "int err;\n",
    "auto env_p = WSInitialize((void*)0);"
   ]
  },
  {
   "cell_type": "code",
   "execution_count": null,
   "id": "prompt-shower",
   "metadata": {},
   "outputs": [],
   "source": [
    "array"
   ]
  },
  {
   "cell_type": "code",
   "execution_count": null,
   "id": "given-blank",
   "metadata": {},
   "outputs": [],
   "source": [
    "xarray<int>array\n",
    "({{500, 500, 300}, {500, 600, 800}})"
   ]
  },
  {
   "cell_type": "code",
   "execution_count": 2,
   "id": "pediatric-ladder",
   "metadata": {},
   "outputs": [],
   "source": [
    "xarray<double> matrix({{1,0},{0,1}});\n",
    "xarray<double> vector({{1,0}});"
   ]
  },
  {
   "cell_type": "raw",
   "id": "fluid-invasion",
   "metadata": {},
   "source": [
    "vector"
   ]
  },
  {
   "cell_type": "code",
   "execution_count": 3,
   "id": "other-hybrid",
   "metadata": {},
   "outputs": [
    {
     "data": {
      "text/html": [
       "<table style='border-style:solid;border-width:1px;'><tbody><tr><td style='font-family:monospace;' title='(0, 0)'><pre> 1.</pre></td><td style='font-family:monospace;' title='(0, 1)'><pre> 0.</pre></td></tr></tbody></table>"
      ]
     },
     "execution_count": 3,
     "metadata": {},
     "output_type": "execute_result"
    }
   ],
   "source": [
    "vector"
   ]
  },
  {
   "cell_type": "code",
   "execution_count": 5,
   "id": "parental-replication",
   "metadata": {},
   "outputs": [
    {
     "data": {
      "text/html": [
       "<table style='border-style:solid;border-width:1px;'><tbody><tr><td style='font-family:monospace;' title='(0, 0)'><pre> 1.</pre></td><td style='font-family:monospace;' title='(0, 1)'><pre> 0.</pre></td></tr></tbody></table>"
      ]
     },
     "execution_count": 5,
     "metadata": {},
     "output_type": "execute_result"
    }
   ],
   "source": [
    "\n",
    "linalg::dot(vector,matrix)"
   ]
  },
  {
   "cell_type": "code",
   "execution_count": null,
   "id": "common-necessity",
   "metadata": {},
   "outputs": [],
   "source": [
    "#define Nt 100\n",
    "\n",
    "double a[Nt], b[Nt], c[Nt];\n",
    "  int i;\n",
    "  omp_set_dynamic(0);      // запретить библиотеке openmp менять число потоков во время исполнения\n",
    "  omp_set_num_threads(10); // установить число потоков в 10\n",
    "\n",
    "  // инициализируем массивы\n",
    "  for (i = 0; i < Nt; i++)\n",
    "  {\n",
    "      a[i] = i * 1.0;\n",
    "      b[i] = i * 2.0;\n",
    "  }\n",
    "\n",
    "  // вычисляем сумму массивов\n",
    "#pragma omp parallel for shared(a, b, c) private(i)\n",
    "   for (i = 0; i < Nt; i++)\n",
    "     c[i] = a[i] + b[i];\n",
    "\n",
    "  printf (\"%f\\n\", c[10]);"
   ]
  },
  {
   "cell_type": "code",
   "execution_count": null,
   "id": "referenced-smoke",
   "metadata": {},
   "outputs": [],
   "source": [
    "omp_get_max_threads()"
   ]
  },
  {
   "cell_type": "code",
   "execution_count": null,
   "id": "color-reminder",
   "metadata": {},
   "outputs": [],
   "source": [
    "const int threads = omp_get_max_threads(); \n",
    " printf (\"%i\\n\", threads);  \n",
    "#pragma omp parallel private()  \n",
    "{\n",
    "     #pragma omp for  \n",
    "      for(int i = 0; i<threads; ++i) { \n",
    "           printf (\"%i\\n\", omp_get_thread_num()); \n",
    "      }\n",
    "}"
   ]
  },
  {
   "cell_type": "code",
   "execution_count": 4,
   "id": "angry-update",
   "metadata": {},
   "outputs": [
    {
     "name": "stderr",
     "output_type": "stream",
     "text": [
      "\u001b[1minput_line_18:1:10: \u001b[0m\u001b[0;1;31mfatal error: \u001b[0m\u001b[1m'libWSTP64i4.so' file not found\u001b[0m\n",
      "#include \"libWSTP64i4.so\"\n",
      "\u001b[0;1;32m         ^~~~~~~~~~~~~~~~\n",
      "\u001b[0m"
     ]
    },
    {
     "ename": "Interpreter Error",
     "evalue": "",
     "output_type": "error",
     "traceback": [
      "Interpreter Error: "
     ]
    }
   ],
   "source": [
    "#include <iostream>\n",
    "\n",
    "\n",
    "#pragma cling load(\"libWSTP64i4.so\")\n",
    "#include <wstp.h>\n",
    "\n",
    "\n",
    "\n",
    "using namespace std;"
   ]
  },
  {
   "cell_type": "code",
   "execution_count": 14,
   "id": "polish-freeze",
   "metadata": {},
   "outputs": [
    {
     "ename": "Standard Exception",
     "evalue": "basic_string::_M_construct null not valid",
     "output_type": "error",
     "traceback": [
      "Standard Exception: basic_string::_M_construct null not valid"
     ]
    }
   ],
   "source": [
    "int err;\n",
    "    auto env_p = WSInitialize((void*)0);\n",
    "    auto link_p = WSOpenString(env_p, \"-linkname test2link -linkprotocol tcp connect\", &err);\n",
    "    if (err != WSEOK) { /* error ... */ cout << \"hell\" << err;}\n",
    "\n",
    "    auto token = WSGetType(link_p);\n",
    "    auto raw_token = WSGetRawType(link_p);\n",
    "\n",
    "    auto temp_link_p = WSLoopbackOpen(env_p, &err);\n",
    "    if (err != WSEOK) { /* error ... */ cout << \"hell2\";}\n",
    "    array_meterp am;\n",
    "    long depth;\n",
    "\n",
    "    std::vector<int> shape;\n",
    "    std::vector<std::string> heads;\n",
    "    size_t total_size = 1;\n",
    "    const char *head_p;\n",
    "    int argcount;\n",
    "    int elem_token;\n",
    "    auto mark = WSCreateMark(link_p);\n",
    "\n",
    "    do {\n",
    "        WSGetFunction(link_p, &head_p, &argcount);\n",
    "        total_size *= argcount;\n",
    "        shape.push_back(argcount);\n",
    "        heads.push_back(string(head_p));\n",
    "        WSReleaseSymbol(link_p, head_p);\n",
    "        elem_token = WSGetRawType(link_p);\n",
    "    } while (elem_token == WSTKFUNC);\n",
    "\n",
    "    switch (elem_token) {\n",
    "    case WSTK_CDOUBLE:\n",
    "        total_size *= sizeof(double);\n",
    "        break;\n",
    "    case WSTK_CFLOAT:\n",
    "        total_size *= sizeof(float);\n",
    "        break;\n",
    "    default:\n",
    "        /* error ... */\n",
    "        break;\n",
    "    }\n",
    "\n",
    "    WSSeekToMark(link_p, mark, 0);\n",
    "    WSDestroyMark(link_p, mark);\n",
    "\n",
    "    void *array_data;\n",
    "    long *received_dims;\n",
    "    char **received_heads;\n",
    "    long received_depth;\n",
    "\n",
    "    WSGetBinaryNumberArray(\n",
    "        link_p, &array_data, &received_dims, &received_heads, &received_depth, elem_token);\n",
    "\n",
    "    /* do stuff with array */\n",
    "\n",
    "    // there is a int/long mismatch on received_dims, I don't understand why\n",
    "    WSReleaseBinaryNumberArray(\n",
    "        link_p, array_data, (int*)received_dims, received_heads, total_size, elem_token);\n",
    "\n"
   ]
  },
  {
   "cell_type": "code",
   "execution_count": null,
   "id": "documentary-donna",
   "metadata": {},
   "outputs": [],
   "source": []
  },
  {
   "cell_type": "code",
   "execution_count": null,
   "id": "documentary-murder",
   "metadata": {},
   "outputs": [],
   "source": []
  }
 ],
 "metadata": {
  "kernelspec": {
   "display_name": "C++17",
   "language": "C++17",
   "name": "xcpp17"
  },
  "language_info": {
   "codemirror_mode": "text/x-c++src",
   "file_extension": ".cpp",
   "mimetype": "text/x-c++src",
   "name": "c++",
   "version": "17"
  }
 },
 "nbformat": 4,
 "nbformat_minor": 5
}
